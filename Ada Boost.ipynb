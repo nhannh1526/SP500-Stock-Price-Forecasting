{
    "cells": [
        {
            "cell_type": "code",
            "execution_count": 1,
            "id": "34015b8e",
            "metadata": {},
            "outputs": [],
            "source": [
                "import os\n",
                "import pandas as pd\n",
                "import numpy as np\n",
                "import matplotlib.pyplot as plt\n",
                "import seaborn as sns\n",
                "\n",
                "from tqdm.notebook import tqdm_notebook\n",
                "from sklearn.model_selection import train_test_split\n",
                "from sklearn.ensemble import AdaBoostRegressor\n",
                "from sklearn.pipeline import Pipeline\n",
                "import joblib\n",
                "\n",
                "from utilities import get_scaler, get_evaluation_metrics\n"
            ]
        },
        {
            "cell_type": "code",
            "execution_count": 2,
            "id": "751f3ac8",
            "metadata": {},
            "outputs": [],
            "source": [
                "SUBDATASET_PATH = \"data/subdataset/\"\n",
                "MODELS_PATH = os.path.join(\"models\", \"Ada Boost\")\n"
            ]
        },
        {
            "cell_type": "code",
            "execution_count": 3,
            "id": "94ff1553",
            "metadata": {},
            "outputs": [
                {
                    "data": {
                        "application/vnd.jupyter.widget-view+json": {
                            "model_id": "7f5f05c1bc7a4d869c5d4f7c9c3f438a",
                            "version_major": 2,
                            "version_minor": 0
                        },
                        "text/plain": [
                            "Train and Evaluate Ada Boost:   0%|          | 0/493 [00:00<?, ?it/s]"
                        ]
                    },
                    "metadata": {},
                    "output_type": "display_data"
                }
            ],
            "source": [
                "RMSEs, MAEs, MAPEs = list(), list(), list()\n",
                "for ticker in tqdm_notebook(os.listdir(SUBDATASET_PATH), desc=\"Train and Evaluate Ada Boost\"):\n",
                "    if not os.path.exists(MODELS_PATH):\n",
                "        os.makedirs(MODELS_PATH)\n",
                "\n",
                "    model_path = os.path.join(MODELS_PATH, f\"{ticker.split('.')[0]}.joblib\")\n",
                "\n",
                "    df = pd.read_csv(SUBDATASET_PATH+ticker, index_col=\"Date\")\n",
                "    df[\"Next 5 Days Close\"] = df[\"Close\"].shift(-5)\n",
                "    df.dropna(inplace=True)\n",
                "\n",
                "    X = df.drop(\"Next 5 Days Close\", axis=1)\n",
                "    y = df[\"Next 5 Days Close\"]\n",
                "\n",
                "    X_train, X_test, y_train, y_test = train_test_split(\n",
                "        X, y, test_size=.1, shuffle=False)\n",
                "\n",
                "    pipe = Pipeline([\n",
                "        (\"Scaler\", get_scaler(\"minmax\")),\n",
                "        (\"Model\", AdaBoostRegressor())\n",
                "    ])\n",
                "\n",
                "    pipe.fit(X_train, y_train)\n",
                "    joblib.dump(pipe, model_path)\n",
                "\n",
                "    model = joblib.load(model_path)\n",
                "    y_pred = model.predict(X_test)\n",
                "    RMSE, MAE, MAPE = get_evaluation_metrics(y_test, y_pred)\n",
                "    RMSEs.append(RMSE)\n",
                "    MAEs.append(MAE)\n",
                "    MAPEs.append(MAPE)\n"
            ]
        },
        {
            "cell_type": "code",
            "execution_count": 4,
            "id": "17903f60",
            "metadata": {
                "scrolled": true
            },
            "outputs": [
                {
                    "name": "stdout",
                    "output_type": "stream",
                    "text": [
                        "RMSE: 23.373704338286164\n",
                        "MAE: 19.949657076082115\n",
                        "MAPE: 0.10292093706620334\n"
                    ]
                }
            ],
            "source": [
                "print(f\"RMSE: {np.mean(RMSEs)}\\nMAE: {np.mean(MAEs)}\\nMAPE: {np.mean(MAPEs)}\")\n"
            ]
        }
    ],
    "metadata": {
        "kernelspec": {
            "display_name": "Python 3 (ipykernel)",
            "language": "python",
            "name": "python3"
        },
        "language_info": {
            "codemirror_mode": {
                "name": "ipython",
                "version": 3
            },
            "file_extension": ".py",
            "mimetype": "text/x-python",
            "name": "python",
            "nbconvert_exporter": "python",
            "pygments_lexer": "ipython3",
            "version": "3.9.12"
        }
    },
    "nbformat": 4,
    "nbformat_minor": 5
}
