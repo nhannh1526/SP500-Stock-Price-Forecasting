{
    "cells": [
        {
            "cell_type": "code",
            "execution_count": null,
            "id": "4caa87b5",
            "metadata": {},
            "outputs": [],
            "source": [
                "import os\n",
                "import pandas as pd\n",
                "import numpy as np\n",
                "import matplotlib.pyplot as plt\n",
                "import seaborn as sns\n",
                "\n",
                "from tqdm.notebook import tqdm_notebook\n",
                "from torch import nn, optim\n",
                "from gru import GRUModel\n",
                "from optimization import Optimization\n",
                "\n",
                "from utilities import *\n"
            ]
        },
        {
            "cell_type": "code",
            "execution_count": null,
            "id": "52467c6c",
            "metadata": {},
            "outputs": [],
            "source": [
                "device = \"cuda\" if torch.cuda.is_available() else \"cpu\"\n",
                "\n",
                "SUBDATASET_PATH = \"data/subdataset/\"\n",
                "MODELS_PATH = os.path.join(\"models\", \"GRU\")\n",
                "\n",
                "HIDDEN_DIM = 64\n",
                "LAYER_DIM = 3\n",
                "BATCH_SIZE = 32\n",
                "DROPOUT = 0.3\n",
                "N_EPOCHS = 100\n",
                "LEARNING_RATE = 1e-03\n",
                "WEIGHT_RATE = 1e-05\n"
            ]
        },
        {
            "cell_type": "code",
            "execution_count": null,
            "id": "958b38ae",
            "metadata": {},
            "outputs": [],
            "source": [
                "RMSEs, MAEs, MAPEs = list(), list(), list()\n",
                "\n",
                "for ticker in tqdm_notebook(os.listdir(SUBDATASET_PATH), desc=\"Train and Evaluate GRU\"):\n",
                "    if not os.path.exists(MODELS_PATH):\n",
                "        os.makedirs(MODELS_PATH)\n",
                "\n",
                "    model_path = os.path.join(MODELS_PATH, f\"{ticker.split('.')[0]}\")\n",
                "\n",
                "    df = pd.read_csv(SUBDATASET_PATH+ticker, index_col=\"Date\")\n",
                "    df[\"Next 5 Days Close\"] = df[\"Close\"].shift(-5)\n",
                "    df.dropna(inplace=True)\n",
                "\n",
                "    X_train, X_val, X_test, y_train, y_val, y_test = train_val_test_split(\n",
                "        df, \"Next 5 Days Close\", 0.1)\n",
                "    X_train_arr, X_val_arr, X_test_arr, y_train_arr, y_val_arr, y_test_arr, scaler = transform_data(\n",
                "        X_train, X_val, X_test, y_train, y_val, y_test, scaling=\"minmax\")\n",
                "    train_loader, val_loader, test_loader = load_data_into_dataloader(\n",
                "        X_train_arr, X_val_arr, X_test_arr, y_train_arr, y_val_arr, y_test_arr, batch_size=BATCH_SIZE)\n",
                "\n",
                "    input_dim = len(X_train.columns)\n",
                "    output_dim = len(y_train.columns)\n",
                "\n",
                "    model_params = {\n",
                "        \"input_dim\": input_dim,\n",
                "        \"hidden_dim\": HIDDEN_DIM,\n",
                "        \"layer_dim\": LAYER_DIM,\n",
                "        \"output_dim\": output_dim,\n",
                "        \"dropout_prob\": DROPOUT\n",
                "    }\n",
                "\n",
                "    model = GRUModel(**model_params)\n",
                "    model = model.to(device)\n",
                "    loss_fn = nn.MSELoss(reduction=\"mean\")\n",
                "    optimizer = optim.Adam(\n",
                "        model.parameters(), lr=LEARNING_RATE, weight_decay=WEIGHT_RATE)\n",
                "\n",
                "    opt = Optimization(model=model, loss_fn=loss_fn, optimizer=optimizer)\n",
                "    opt.train(train_loader, val_loader, batch_size=BATCH_SIZE,\n",
                "              n_epochs=N_EPOCHS, n_features=input_dim, model_path=model_path)\n",
                "\n",
                "    predictions, values = opt.evaluate(\n",
                "        test_loader,\n",
                "        batch_size=1,\n",
                "        n_features=input_dim\n",
                "    )\n",
                "\n",
                "    result = format_predictions(predictions, values, X_test, scaler)\n",
                "    RMSE, MAE, MAPE = get_evaluation_metrics(result[\"true\"], result[\"pred\"])\n",
                "    RMSEs.append(RMSE)\n",
                "    MAEs.append(MAE)\n",
                "    MAPEs.append(MAPE)\n"
            ]
        },
        {
            "cell_type": "code",
            "execution_count": null,
            "id": "36e12148",
            "metadata": {},
            "outputs": [],
            "source": [
                "print(f\"RMSE: {np.mean(RMSEs)}\\nMAE: {np.mean(MAEs)}\\nMAPE: {np.mean(MAPEs)}\")\n"
            ]
        }
    ],
    "metadata": {
        "kernelspec": {
            "display_name": "Python 3 (ipykernel)",
            "language": "python",
            "name": "python3"
        },
        "language_info": {
            "codemirror_mode": {
                "name": "ipython",
                "version": 3
            },
            "file_extension": ".py",
            "mimetype": "text/x-python",
            "name": "python",
            "nbconvert_exporter": "python",
            "pygments_lexer": "ipython3",
            "version": "3.9.12"
        }
    },
    "nbformat": 4,
    "nbformat_minor": 5
}
