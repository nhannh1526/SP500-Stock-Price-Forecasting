{
    "cells": [
        {
            "cell_type": "code",
            "execution_count": 1,
            "id": "d772119a",
            "metadata": {},
            "outputs": [],
            "source": [
                "import os\n",
                "import pandas as pd\n",
                "import numpy as np\n",
                "import matplotlib.pyplot as plt\n",
                "import seaborn as sns\n",
                "\n",
                "from tqdm.notebook import tqdm_notebook\n",
                "from sklearn.model_selection import train_test_split\n",
                "from statsmodels.tsa.arima.model import ARIMA, ARIMAResults\n",
                "import joblib\n",
                "\n",
                "from utilities import get_evaluation_metrics\n"
            ]
        },
        {
            "cell_type": "code",
            "execution_count": 2,
            "id": "5fab9cb4",
            "metadata": {},
            "outputs": [],
            "source": [
                "SUBDATASET_PATH = \"data/subdataset/\"\n",
                "MODELS_PATH = os.path.join(\"models\", \"ARIMA\")\n"
            ]
        },
        {
            "cell_type": "code",
            "execution_count": 3,
            "id": "53afd074",
            "metadata": {},
            "outputs": [
                {
                    "data": {
                        "application/vnd.jupyter.widget-view+json": {
                            "model_id": "0ce900575eae4fda8fed3dfb2e996785",
                            "version_major": 2,
                            "version_minor": 0
                        },
                        "text/plain": [
                            "Train and Evaluate ARIMA:   0%|          | 0/493 [00:00<?, ?it/s]"
                        ]
                    },
                    "metadata": {},
                    "output_type": "display_data"
                }
            ],
            "source": [
                "RMSEs, MAEs, MAPEs = list(), list(), list()\n",
                "for ticker in tqdm_notebook(os.listdir(SUBDATASET_PATH), desc=\"Train and Evaluate ARIMA\"):\n",
                "    if not os.path.exists(MODELS_PATH):\n",
                "        os.makedirs(MODELS_PATH)\n",
                "\n",
                "    model_path = os.path.join(MODELS_PATH, f\"{ticker.split('.')[0]}.pkl\")\n",
                "\n",
                "    df = pd.read_csv(SUBDATASET_PATH+ticker, index_col=\"Date\")\n",
                "    df[\"Next 5 Days Close\"] = df[\"Close\"].shift(-5)\n",
                "    df.dropna(inplace=True)\n",
                "\n",
                "    X = df.drop(\"Next 5 Days Close\", axis=1)\n",
                "    y = df[\"Next 5 Days Close\"]\n",
                "\n",
                "    X_train, X_test, y_train, y_test = train_test_split(\n",
                "        X, y, test_size=.1, shuffle=False)\n",
                "    y_train.reset_index(drop=True, inplace=True)\n",
                "    y_test.reset_index(drop=True, inplace=True)\n",
                "\n",
                "    mod = ARIMA(y_train, order=(1, 1, 0))\n",
                "    res = mod.fit()\n",
                "    res.save(model_path)\n",
                "\n",
                "    model = ARIMAResults.load(model_path)\n",
                "    y_pred = model.forecast(len(y_test))\n",
                "    RMSE, MAE, MAPE = get_evaluation_metrics(y_test, y_pred)\n",
                "    RMSEs.append(RMSE)\n",
                "    MAEs.append(MAE)\n",
                "    MAPEs.append(MAPE)\n"
            ]
        },
        {
            "cell_type": "code",
            "execution_count": 4,
            "id": "60c2112b",
            "metadata": {
                "scrolled": true
            },
            "outputs": [
                {
                    "name": "stdout",
                    "output_type": "stream",
                    "text": [
                        "RMSE: 21.252175374651312\n",
                        "MAE: 17.668906418796027\n",
                        "MAPE: 0.08602918633225576\n"
                    ]
                }
            ],
            "source": [
                "print(f\"RMSE: {np.mean(RMSEs)}\\nMAE: {np.mean(MAEs)}\\nMAPE: {np.mean(MAPEs)}\")\n"
            ]
        }
    ],
    "metadata": {
        "kernelspec": {
            "display_name": "Python 3 (ipykernel)",
            "language": "python",
            "name": "python3"
        },
        "language_info": {
            "codemirror_mode": {
                "name": "ipython",
                "version": 3
            },
            "file_extension": ".py",
            "mimetype": "text/x-python",
            "name": "python",
            "nbconvert_exporter": "python",
            "pygments_lexer": "ipython3",
            "version": "3.9.12"
        }
    },
    "nbformat": 4,
    "nbformat_minor": 5
}
